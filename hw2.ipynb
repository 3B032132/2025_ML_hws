{
  "nbformat": 4,
  "nbformat_minor": 0,
  "metadata": {
    "colab": {
      "provenance": [],
      "toc_visible": true,
      "authorship_tag": "ABX9TyOwJY74ekRZ34sVKqnjfgRh",
      "include_colab_link": true
    },
    "kernelspec": {
      "name": "python3",
      "display_name": "Python 3"
    },
    "language_info": {
      "name": "python"
    }
  },
  "cells": [
    {
      "cell_type": "markdown",
      "metadata": {
        "id": "view-in-github",
        "colab_type": "text"
      },
      "source": [
        "<a href=\"https://colab.research.google.com/github/3B032132/2025_ML_hws/blob/main/hw2.ipynb\" target=\"_parent\"><img src=\"https://colab.research.google.com/assets/colab-badge.svg\" alt=\"Open In Colab\"/></a>"
      ]
    },
    {
      "cell_type": "markdown",
      "source": [
        "# 113-2 深度學習 作業 2"
      ],
      "metadata": {
        "id": "O8JUncUaCDMY"
      }
    },
    {
      "cell_type": "code",
      "source": [
        "import numpy as np"
      ],
      "metadata": {
        "id": "lbTAJU5seLcE"
      },
      "execution_count": 2,
      "outputs": []
    },
    {
      "cell_type": "markdown",
      "source": [
        "## 一、定義激活函數 (activation function)"
      ],
      "metadata": {
        "id": "IqLOCdDMKBMD"
      }
    },
    {
      "cell_type": "markdown",
      "source": [
        "### (1) Sigmoid () 函數"
      ],
      "metadata": {
        "id": "VSydLY6JKKcd"
      }
    },
    {
      "cell_type": "code",
      "source": [
        "def sigmoid(x):\n",
        "  return 1 / (1 + np.exp(-x))"
      ],
      "metadata": {
        "id": "mod0LcF7KaWA"
      },
      "execution_count": 3,
      "outputs": []
    },
    {
      "cell_type": "markdown",
      "source": [
        "### (2) ReLU () 函數"
      ],
      "metadata": {
        "id": "PXAKP2v9KNbT"
      }
    },
    {
      "cell_type": "code",
      "source": [
        "def relu(x):\n",
        "  return np.maximum(0, x)"
      ],
      "metadata": {
        "id": "nKGkqTADKqUB"
      },
      "execution_count": 4,
      "outputs": []
    },
    {
      "cell_type": "markdown",
      "source": [
        "### (3) Softmax () 函數"
      ],
      "metadata": {
        "id": "zfOutOgrKPLX"
      }
    },
    {
      "cell_type": "code",
      "execution_count": 5,
      "metadata": {
        "id": "c6wNpU0iB9NV"
      },
      "outputs": [],
      "source": [
        "def softmax(x):\n",
        "  x -= np.max(x, axis=-1, keepdims=True)\n",
        "  return np.exp(x) / np.sum(np.exp(x), axis=-1, keepdims=True)"
      ]
    },
    {
      "cell_type": "markdown",
      "source": [
        "## 二、多層神經網路批次學習"
      ],
      "metadata": {
        "id": "MzVqPRhOK6Zf"
      }
    },
    {
      "cell_type": "markdown",
      "source": [
        "### 2.1 輸入層"
      ],
      "metadata": {
        "id": "g6tW53k8qxd0"
      }
    },
    {
      "cell_type": "markdown",
      "source": [
        "#### (1) 批次大小"
      ],
      "metadata": {
        "id": "sQrr_eTarJ5B"
      }
    },
    {
      "cell_type": "code",
      "source": [
        "batch_size = 5"
      ],
      "metadata": {
        "id": "EVue41Z6uMlk"
      },
      "execution_count": 6,
      "outputs": []
    },
    {
      "cell_type": "markdown",
      "source": [
        "#### (2) 批次輸入 5 筆 X 6 = 30 個特徵值"
      ],
      "metadata": {
        "id": "KgktuMRevjAX"
      }
    },
    {
      "cell_type": "code",
      "source": [
        "X = np.array([\n",
        "    [1.0, 0.5, 0.2, 0.8, 0.3, 0.7],\n",
        "    [0.9, 0.3, 0.5, 0.4, 0.6, 0.2],\n",
        "    [0.6, 0.8, 0.7, 0.3, 0.1, 0.9],\n",
        "    [0.4, 0.6, 0.8, 0.2, 0.5, 0.1],\n",
        "    [0.3, 0.9, 0.4, 0.7, 0.2, 0.8]]) # 5x6\n",
        "\n",
        "print('X shape:', X.shape)"
      ],
      "metadata": {
        "colab": {
          "base_uri": "https://localhost:8080/"
        },
        "id": "uAI0UO7Qo3FZ",
        "outputId": "ec19a139-4dad-40a1-eee8-978e50d9b1b3"
      },
      "execution_count": 7,
      "outputs": [
        {
          "output_type": "stream",
          "name": "stdout",
          "text": [
            "X shape: (5, 6)\n"
          ]
        }
      ]
    },
    {
      "cell_type": "markdown",
      "source": [
        "#### (3) 假設真實結果 Y"
      ],
      "metadata": {
        "id": "ysXwksJi1Uuq"
      }
    },
    {
      "cell_type": "code",
      "source": [
        "Y = np.array([\n",
        "    [1, 0, 0],\n",
        "    [0, 1, 0],\n",
        "    [0, 0, 1],\n",
        "    [1, 0, 0],\n",
        "    [0, 1, 0]]) # 5x3\n",
        "\n",
        "print('Y shape:', Y.shape)"
      ],
      "metadata": {
        "colab": {
          "base_uri": "https://localhost:8080/"
        },
        "id": "MvGtrMPX1Pd6",
        "outputId": "3da3ddeb-42e9-49a1-e02b-c272da9f896c"
      },
      "execution_count": 45,
      "outputs": [
        {
          "output_type": "stream",
          "name": "stdout",
          "text": [
            "Y shape: (5, 3)\n"
          ]
        }
      ]
    },
    {
      "cell_type": "markdown",
      "source": [
        "### 2.2 第 一 隱藏層"
      ],
      "metadata": {
        "id": "bQzmaOMR2Nh_"
      }
    },
    {
      "cell_type": "markdown",
      "source": [
        "#### (1) 5 個神經元"
      ],
      "metadata": {
        "id": "RtSsy3ib3C_3"
      }
    },
    {
      "cell_type": "code",
      "source": [
        "W1 = np.array([\n",
        "    [0.1, 0.2, 0.3, 0.4, 0.5],\n",
        "    [0.5, 0.4, 0.3, 0.2, 0.1],\n",
        "    [0.2, 0.3, 0.4, 0.5, 0.6],\n",
        "    [0.6, 0.5, 0.4, 0.3, 0.2],\n",
        "    [0.3, 0.4, 0.5, 0.6, 0.7],\n",
        "    [0.7, 0.6, 0.5, 0.4, 0.3]]) # 6x5\n",
        "\n",
        "b1 = np.array([0.1, 0.2, 0.3, 0.4, 0.5]) # 1x5\n",
        "\n",
        "print('W1 shape:', W1.shape)\n",
        "print('b1 shape:', b1.shape)"
      ],
      "metadata": {
        "colab": {
          "base_uri": "https://localhost:8080/"
        },
        "id": "Zk4rzbst2Y4c",
        "outputId": "33b47f50-d283-48e8-b4a5-b811c2712278"
      },
      "execution_count": 9,
      "outputs": [
        {
          "output_type": "stream",
          "name": "stdout",
          "text": [
            "W1 shape: (6, 5)\n",
            "b1 shape: (5,)\n"
          ]
        }
      ]
    },
    {
      "cell_type": "markdown",
      "source": [
        "#### (2) 加權和 z1"
      ],
      "metadata": {
        "id": "-oTKvbiRqPw4"
      }
    },
    {
      "cell_type": "code",
      "source": [
        "z1 = np.dot(X, W1) + b1\n",
        "\n",
        "print(z1) # 5x5\n",
        "print('z1 shape:', z1.shape)"
      ],
      "metadata": {
        "colab": {
          "base_uri": "https://localhost:8080/"
        },
        "id": "PiHcGc8K2jet",
        "outputId": "30c7f1ee-c359-4a98-a1e4-f767d73a3e19"
      },
      "execution_count": 15,
      "outputs": [
        {
          "output_type": "stream",
          "name": "stdout",
          "text": [
            "[[1.55 1.6  1.65 1.7  1.75]\n",
            " [1.   1.21 1.42 1.63 1.84]\n",
            " [1.54 1.58 1.62 1.66 1.7 ]\n",
            " [0.94 1.12 1.3  1.48 1.66]\n",
            " [1.7  1.65 1.6  1.55 1.5 ]]\n",
            "z1 shape: (5, 5)\n"
          ]
        }
      ]
    },
    {
      "cell_type": "markdown",
      "source": [
        "#### (3) 激活函數 ReLU ()"
      ],
      "metadata": {
        "id": "utc1MrqZqcwW"
      }
    },
    {
      "cell_type": "code",
      "source": [
        "h1 = relu(z1)\n",
        "\n",
        "print(h1) # 5x5\n",
        "print('h1 shape:', z1.shape)"
      ],
      "metadata": {
        "colab": {
          "base_uri": "https://localhost:8080/"
        },
        "id": "ii_Tksa5qdYZ",
        "outputId": "31e75b05-da4c-4c4e-f79c-312299616f06"
      },
      "execution_count": 16,
      "outputs": [
        {
          "output_type": "stream",
          "name": "stdout",
          "text": [
            "[[1.55 1.6  1.65 1.7  1.75]\n",
            " [1.   1.21 1.42 1.63 1.84]\n",
            " [1.54 1.58 1.62 1.66 1.7 ]\n",
            " [0.94 1.12 1.3  1.48 1.66]\n",
            " [1.7  1.65 1.6  1.55 1.5 ]]\n",
            "h1 shape: (5, 5)\n"
          ]
        }
      ]
    },
    {
      "cell_type": "markdown",
      "source": [
        "### 2.3 第 二 隱藏層"
      ],
      "metadata": {
        "id": "YG33P65Xq8FY"
      }
    },
    {
      "cell_type": "markdown",
      "source": [
        "#### (1) 4 個神經元"
      ],
      "metadata": {
        "id": "IXo64Cqiq9HP"
      }
    },
    {
      "cell_type": "code",
      "source": [
        "W2 = np.array([\n",
        "    [0.2, 0.3, 0.4, 0.5],\n",
        "    [0.5, 0.4, 0.3, 0.2],\n",
        "    [0.3, 0.4, 0.5, 0.6],\n",
        "    [0.6, 0.5, 0.4, 0.3],\n",
        "    [0.4, 0.5, 0.6, 0.7]]) # 5x4\n",
        "\n",
        "b2 = np.array([0.2, 0.3, 0.4, 0.5]) # 1x4\n",
        "\n",
        "print(W2.shape)\n",
        "print(b2.shape)"
      ],
      "metadata": {
        "colab": {
          "base_uri": "https://localhost:8080/"
        },
        "id": "8PDUUcysrDYu",
        "outputId": "feec53c6-abe7-430d-80f1-a4063dd443a8"
      },
      "execution_count": 17,
      "outputs": [
        {
          "output_type": "stream",
          "name": "stdout",
          "text": [
            "(5, 4)\n",
            "(4,)\n"
          ]
        }
      ]
    },
    {
      "cell_type": "markdown",
      "source": [
        "#### (2) 加權和 z2"
      ],
      "metadata": {
        "id": "jHpCfnyNrz-L"
      }
    },
    {
      "cell_type": "code",
      "source": [
        "z2 = np.dot(h1, W2) + b2\n",
        "\n",
        "print(z2) # 5x4\n",
        "print('z2 shape:', z2.shape)"
      ],
      "metadata": {
        "colab": {
          "base_uri": "https://localhost:8080/"
        },
        "id": "TLSwBH-yrGWD",
        "outputId": "0e926c55-6bd2-44ed-afbd-80d2c6f967eb"
      },
      "execution_count": 22,
      "outputs": [
        {
          "output_type": "stream",
          "name": "stdout",
          "text": [
            "[[3.525 3.79  4.055 4.32 ]\n",
            " [3.145 3.387 3.629 3.871]\n",
            " [3.46  3.722 3.984 4.246]\n",
            " [2.89  3.12  3.35  3.58 ]\n",
            " [3.375 3.635 3.895 4.155]]\n",
            "z2 shape: (5, 4)\n"
          ]
        }
      ]
    },
    {
      "cell_type": "markdown",
      "source": [
        "#### (3) 激活函數 ReLU ()"
      ],
      "metadata": {
        "id": "oKHnzfCKr9O9"
      }
    },
    {
      "cell_type": "code",
      "source": [
        "h2 = relu(z2)\n",
        "\n",
        "print(h2) # 5x4\n",
        "print('h2 shape:', h2.shape)"
      ],
      "metadata": {
        "colab": {
          "base_uri": "https://localhost:8080/"
        },
        "id": "Ty1NPLUlrHQb",
        "outputId": "71af0e79-3465-4901-8394-447c5c09118c"
      },
      "execution_count": 24,
      "outputs": [
        {
          "output_type": "stream",
          "name": "stdout",
          "text": [
            "[[3.525 3.79  4.055 4.32 ]\n",
            " [3.145 3.387 3.629 3.871]\n",
            " [3.46  3.722 3.984 4.246]\n",
            " [2.89  3.12  3.35  3.58 ]\n",
            " [3.375 3.635 3.895 4.155]]\n",
            "h2 shape: (5, 4)\n"
          ]
        }
      ]
    },
    {
      "cell_type": "markdown",
      "source": [
        "### 2.4 第 三 隱藏層"
      ],
      "metadata": {
        "id": "O2NksS7KsIuS"
      }
    },
    {
      "cell_type": "markdown",
      "source": [
        "#### (1) 4 個神經元"
      ],
      "metadata": {
        "id": "q9zfff8ZsJWE"
      }
    },
    {
      "cell_type": "code",
      "source": [
        "W3 = np.array([\n",
        "    [0.3, 0.4, 0.5, 0.6],\n",
        "    [0.6, 0.5, 0.4, 0.3],\n",
        "    [0.4, 0.5, 0.6, 0.7],\n",
        "    [0.7, 0.6, 0.5, 0.4]]) # 4x4\n",
        "\n",
        "b3 = np.array([0.3, 0.4, 0.5, 0.6]) #1x4\n",
        "\n",
        "print(W3.shape)\n",
        "print(b3.shape)"
      ],
      "metadata": {
        "colab": {
          "base_uri": "https://localhost:8080/"
        },
        "id": "3atw5l6jsSPN",
        "outputId": "fa0a27ef-c883-44db-d08a-3fbf9292c787"
      },
      "execution_count": 25,
      "outputs": [
        {
          "output_type": "stream",
          "name": "stdout",
          "text": [
            "(4, 4)\n",
            "(4,)\n"
          ]
        }
      ]
    },
    {
      "cell_type": "markdown",
      "source": [
        "#### (2) 加權和 z3"
      ],
      "metadata": {
        "id": "6-ZOaFpGtIIE"
      }
    },
    {
      "cell_type": "code",
      "source": [
        "z3 = np.dot(h2, W3) + b3\n",
        "\n",
        "print(z3) # 5x4\n",
        "print('z3 shape:', z3.shape)"
      ],
      "metadata": {
        "colab": {
          "base_uri": "https://localhost:8080/"
        },
        "id": "ZjUYBsFgsT4p",
        "outputId": "495cd364-8a00-4b45-ed40-f5b2574ea456"
      },
      "execution_count": 26,
      "outputs": [
        {
          "output_type": "stream",
          "name": "stdout",
          "text": [
            "[[8.2775 8.3245 8.3715 8.4185]\n",
            " [7.437  7.4886 7.5402 7.5918]\n",
            " [8.137  8.1846 8.2322 8.2798]\n",
            " [6.885  6.939  6.993  7.047 ]\n",
            " [7.96   8.008  8.056  8.104 ]]\n",
            "z3 shape: (5, 4)\n"
          ]
        }
      ]
    },
    {
      "cell_type": "markdown",
      "source": [
        "#### (3) 激活函數 sigmoid ()"
      ],
      "metadata": {
        "id": "WHR-nclDtJc7"
      }
    },
    {
      "cell_type": "code",
      "source": [
        "h3 = sigmoid(z3)\n",
        "\n",
        "print(h3) # 5x4\n",
        "print('h3 shape:', h3.shape)"
      ],
      "metadata": {
        "colab": {
          "base_uri": "https://localhost:8080/"
        },
        "id": "PVAU54IosUYN",
        "outputId": "84182585-62ff-44c2-b4e9-f729e68afa74"
      },
      "execution_count": 27,
      "outputs": [
        {
          "output_type": "stream",
          "name": "stdout",
          "text": [
            "[[0.99974589 0.99975756 0.99976869 0.9997793 ]\n",
            " [0.9994113  0.99944089 0.99946899 0.99949568]\n",
            " [0.99970757 0.99972116 0.99973412 0.99974648]\n",
            " [0.99897803 0.9990317  0.99908255 0.99913074]\n",
            " [0.99965097 0.99966732 0.99968291 0.99969776]]\n",
            "h3 shape: (5, 4)\n"
          ]
        }
      ]
    },
    {
      "cell_type": "markdown",
      "source": [
        "### 2.5 輸出層"
      ],
      "metadata": {
        "id": "0YP5J4aBtP21"
      }
    },
    {
      "cell_type": "markdown",
      "source": [
        "#### (1) 3 個神經元"
      ],
      "metadata": {
        "id": "dfrPfDTmte9X"
      }
    },
    {
      "cell_type": "code",
      "source": [
        "W4 = np.array([\n",
        "    [0.5, 0.3, 0.1],\n",
        "    [0.2, 0.4, 0.6],\n",
        "    [0.7, 0.5, 0.3],\n",
        "    [0.6, 0.2, 0.4]]) # 4x3\n",
        "\n",
        "b4 = np.array([0.4, 0.5, 0.6]) # 1x3\n",
        "\n",
        "print(W4.shape)\n",
        "print(b4.shape)"
      ],
      "metadata": {
        "colab": {
          "base_uri": "https://localhost:8080/"
        },
        "id": "YqQCu5hMcrtj",
        "outputId": "59bdfc48-52ac-46f9-a0bf-626a9adaf6f5"
      },
      "execution_count": 28,
      "outputs": [
        {
          "output_type": "stream",
          "name": "stdout",
          "text": [
            "(4, 3)\n",
            "(3,)\n"
          ]
        }
      ]
    },
    {
      "cell_type": "markdown",
      "source": [
        "#### (2) 加權和 z4"
      ],
      "metadata": {
        "id": "rHeSlymnuQcA"
      }
    },
    {
      "cell_type": "code",
      "source": [
        "z4 = np.dot(h3, W4) + b4\n",
        "\n",
        "print(z4) # 5x3\n",
        "print('z4 shape:', z4.shape)"
      ],
      "metadata": {
        "colab": {
          "base_uri": "https://localhost:8080/"
        },
        "id": "uxsJLLMdtjwJ",
        "outputId": "fe9c3459-2fb5-4b46-eede-e191cc6c4120"
      },
      "execution_count": 29,
      "outputs": [
        {
          "output_type": "stream",
          "name": "stdout",
          "text": [
            "[[2.39953012 1.89966699 1.99967145]\n",
            " [2.39891953 1.89923338 1.99924463]\n",
            " [2.39945979 1.89961709 1.99962228]\n",
            " [2.39813159 1.89867351 1.99869389]\n",
            " [2.39935564 1.89954323 1.99954947]]\n",
            "z4 shape: (5, 3)\n"
          ]
        }
      ]
    },
    {
      "cell_type": "markdown",
      "source": [
        "#### (3) 激活函數 Softmax ()"
      ],
      "metadata": {
        "id": "rlrXE2IBuTAZ"
      }
    },
    {
      "cell_type": "code",
      "source": [
        "y_hat = softmax(z4)\n",
        "\n",
        "print(y_hat) # 5x3\n",
        "print('y_hat shape:', y_hat.shape)"
      ],
      "metadata": {
        "colab": {
          "base_uri": "https://localhost:8080/"
        },
        "id": "PQbF_Gjgt5HA",
        "outputId": "e8596a23-2786-4a4f-f4b3-218389a24e70"
      },
      "execution_count": 31,
      "outputs": [
        {
          "output_type": "stream",
          "name": "stdout",
          "text": [
            "[[0.43916886 0.26640584 0.2944253 ]\n",
            " [0.43912439 0.26642601 0.29444959]\n",
            " [0.43916373 0.26640817 0.29442809]\n",
            " [0.43906704 0.26645198 0.29448098]\n",
            " [0.43915614 0.26641163 0.29443223]]\n",
            "y_hat shape: (5, 3)\n"
          ]
        }
      ]
    },
    {
      "cell_type": "markdown",
      "source": [
        "### 2.6 損失函數 (loss function)"
      ],
      "metadata": {
        "id": "xy86YTfFxW3U"
      }
    },
    {
      "cell_type": "markdown",
      "source": [
        "#### (1) 交叉熵誤差 (cross_entropy_error)"
      ],
      "metadata": {
        "id": "2D-vhUeTxdmp"
      }
    },
    {
      "cell_type": "code",
      "source": [
        "def cross_entropy_error(y, t):  # (神經網路計算結果, 真實結果)\n",
        "  if y.ndim == 1:\n",
        "    t = t.reshape(1, t.size)\n",
        "    y = y.reshape(1, y.size)\n",
        "\n",
        "  batch_size = y.shape[0]\n",
        "  return -np.sum(t * np.log(y + 1e-7)) / batch_size"
      ],
      "metadata": {
        "id": "TC846tUtxgJT"
      },
      "execution_count": 47,
      "outputs": []
    },
    {
      "cell_type": "markdown",
      "source": [
        "#### (2) y_hat 與 Y 之間的誤差值"
      ],
      "metadata": {
        "id": "NSAcOMA7yEAe"
      }
    },
    {
      "cell_type": "code",
      "source": [
        "loss = cross_entropy_error(y_hat, Y)\n",
        "print(f'y_hat 與 y 之間的誤差值: {loss}')"
      ],
      "metadata": {
        "colab": {
          "base_uri": "https://localhost:8080/"
        },
        "id": "SDj0TCtVox0k",
        "outputId": "c60e0d1c-051b-4e21-e4a8-0086278483d7"
      },
      "execution_count": 50,
      "outputs": [
        {
          "output_type": "stream",
          "name": "stdout",
          "text": [
            "y_hat 與 y 之間的誤差值: 1.1028129518671288\n"
          ]
        }
      ]
    }
  ]
}