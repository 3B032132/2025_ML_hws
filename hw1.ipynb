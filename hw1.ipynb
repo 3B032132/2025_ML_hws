{
  "nbformat": 4,
  "nbformat_minor": 0,
  "metadata": {
    "colab": {
      "provenance": [],
      "toc_visible": true,
      "gpuType": "T4",
      "include_colab_link": true
    },
    "kernelspec": {
      "name": "python3",
      "display_name": "Python 3"
    },
    "language_info": {
      "name": "python"
    },
    "accelerator": "GPU"
  },
  "cells": [
    {
      "cell_type": "markdown",
      "metadata": {
        "id": "view-in-github",
        "colab_type": "text"
      },
      "source": [
        "<a href=\"https://colab.research.google.com/github/FANG87003/2025_ML_hws/blob/main/hw1.ipynb\" target=\"_parent\"><img src=\"https://colab.research.google.com/assets/colab-badge.svg\" alt=\"Open In Colab\"/></a>"
      ]
    },
    {
      "cell_type": "markdown",
      "source": [
        "# 113-2 深度學習 作業 1"
      ],
      "metadata": {
        "id": "k7OoVxA_mZVN"
      }
    },
    {
      "cell_type": "markdown",
      "source": [
        "## 一、載入numpy套件"
      ],
      "metadata": {
        "id": "xg6q98N7mld3"
      }
    },
    {
      "cell_type": "code",
      "execution_count": 1,
      "metadata": {
        "id": "GG2La4qdl7tQ"
      },
      "outputs": [],
      "source": [
        "import numpy as np"
      ]
    },
    {
      "cell_type": "markdown",
      "source": [
        "## 二、定義激活函數 (activation function)"
      ],
      "metadata": {
        "id": "Di-7eqMAmr-U"
      }
    },
    {
      "cell_type": "markdown",
      "source": [
        "### (1) Sigmoid () 函數"
      ],
      "metadata": {
        "id": "nssaz5i1m7ve"
      }
    },
    {
      "cell_type": "code",
      "source": [
        "def sigmoid(x):\n",
        "  return 1 / (1 + np.exp(-x))"
      ],
      "metadata": {
        "id": "rO6qmefJm3T7"
      },
      "execution_count": 2,
      "outputs": []
    },
    {
      "cell_type": "markdown",
      "source": [
        "### (2) ReLU () 函數"
      ],
      "metadata": {
        "id": "U9y4DLmYnrqh"
      }
    },
    {
      "cell_type": "code",
      "source": [
        "def relu(x):\n",
        "  return np.maximum(0, x)"
      ],
      "metadata": {
        "id": "VOv6ITLyngRm"
      },
      "execution_count": 3,
      "outputs": []
    },
    {
      "cell_type": "markdown",
      "source": [
        "### (3) Softmax () 函數"
      ],
      "metadata": {
        "id": "Y6dTlf_TnyTT"
      }
    },
    {
      "cell_type": "code",
      "source": [
        "def softmax(x):\n",
        "  c = np.max(x)\n",
        "  x -= c\n",
        "  return np.exp(x) / np.sum(np.exp(x))"
      ],
      "metadata": {
        "id": "BWb_eWnGn6nY"
      },
      "execution_count": 4,
      "outputs": []
    },
    {
      "cell_type": "markdown",
      "source": [
        "## 三、神經網路計算"
      ],
      "metadata": {
        "id": "_jwLl7SwLXOq"
      }
    },
    {
      "cell_type": "markdown",
      "source": [
        "### 3.1 輸入層"
      ],
      "metadata": {
        "id": "p_VAXYotopLF"
      }
    },
    {
      "cell_type": "markdown",
      "source": [
        "#### (1) 6 個特徵值"
      ],
      "metadata": {
        "id": "c_QvoUjULwDY"
      }
    },
    {
      "cell_type": "code",
      "source": [
        "import numpy as np\n",
        "\n",
        "X = np.array([0.5, 0.3, 0.8, 0.2, 0.7, 0.9])  # 6個特徵值\n",
        "print(X)\n",
        "print(X.shape) # 一列六行"
      ],
      "metadata": {
        "colab": {
          "base_uri": "https://localhost:8080/"
        },
        "id": "jrUt0mF2qLVF",
        "outputId": "0a8fcbac-1fbb-4832-824b-85c3c2dc7bcf"
      },
      "execution_count": 5,
      "outputs": [
        {
          "output_type": "stream",
          "name": "stdout",
          "text": [
            "[0.5 0.3 0.8 0.2 0.7 0.9]\n",
            "(6,)\n"
          ]
        }
      ]
    },
    {
      "cell_type": "markdown",
      "source": [
        "### 3.2 第 一 隱藏層"
      ],
      "metadata": {
        "id": "QSH1U_IixNrs"
      }
    },
    {
      "cell_type": "markdown",
      "source": [
        "#### (1) 5 個神經元"
      ],
      "metadata": {
        "id": "uznKOIxTrG72"
      }
    },
    {
      "cell_type": "code",
      "source": [
        "W1 = np.array([\n",
        "    [0.1, 0.2, 0.3, 0.4, 0.5],\n",
        "    [0.5, 0.4, 0.3, 0.2, 0.1],\n",
        "    [0.2, 0.3, 0.4, 0.5, 0.6],\n",
        "    [0.6, 0.5, 0.4, 0.3, 0.2],\n",
        "    [0.3, 0.4, 0.5, 0.6, 0.7],\n",
        "    [0.7, 0.6, 0.5, 0.4, 0.3]]) # 權重\n",
        "\n",
        "b1 = np.array([0.1, 0.2, 0.3, 0.4, 0.5]) # 偏值\n",
        "print(W1.shape) # 六列五行\n",
        "print(b1.shape)"
      ],
      "metadata": {
        "colab": {
          "base_uri": "https://localhost:8080/"
        },
        "id": "-XY-Eyg5rJip",
        "outputId": "7b89f7b0-d1a6-453d-b1e0-0a837229edb0"
      },
      "execution_count": 6,
      "outputs": [
        {
          "output_type": "stream",
          "name": "stdout",
          "text": [
            "(6, 5)\n",
            "(5,)\n"
          ]
        }
      ]
    },
    {
      "cell_type": "markdown",
      "source": [
        "#### (2) 加權和"
      ],
      "metadata": {
        "id": "T7xuYNSWvqXL"
      }
    },
    {
      "cell_type": "code",
      "source": [
        "z1 = np.dot(X, W1) + b1\n",
        "print(z1)\n",
        "print(z1.shape) # 一列五行"
      ],
      "metadata": {
        "colab": {
          "base_uri": "https://localhost:8080/"
        },
        "id": "GTBXd2jdrruA",
        "outputId": "ecab8759-d430-4b09-ce03-5773674bd92a"
      },
      "execution_count": 7,
      "outputs": [
        {
          "output_type": "stream",
          "name": "stdout",
          "text": [
            "[1.42 1.58 1.74 1.9  2.06]\n",
            "(5,)\n"
          ]
        }
      ]
    },
    {
      "cell_type": "markdown",
      "source": [
        "#### (3) 激活函數 ReLU ()"
      ],
      "metadata": {
        "id": "uGvSXicgwy0o"
      }
    },
    {
      "cell_type": "code",
      "source": [
        "h1 = relu(z1)\n",
        "print(h1)\n",
        "print(h1.shape) # 一列五行"
      ],
      "metadata": {
        "colab": {
          "base_uri": "https://localhost:8080/"
        },
        "id": "k92Y6Uz2v618",
        "outputId": "015a1642-a521-4d4b-8f04-8e025169cce9"
      },
      "execution_count": 8,
      "outputs": [
        {
          "output_type": "stream",
          "name": "stdout",
          "text": [
            "[1.42 1.58 1.74 1.9  2.06]\n",
            "(5,)\n"
          ]
        }
      ]
    },
    {
      "cell_type": "markdown",
      "source": [
        "### 3.3 第 二 隱藏層"
      ],
      "metadata": {
        "id": "FViNEAv6xktY"
      }
    },
    {
      "cell_type": "markdown",
      "source": [
        "#### (1) 4 個神經元"
      ],
      "metadata": {
        "id": "BOf_PWihx-dZ"
      }
    },
    {
      "cell_type": "code",
      "source": [
        "W2 = np.array([\n",
        "    [0.2, 0.3, 0.4, 0.5],\n",
        "    [0.5, 0.4, 0.3, 0.2],\n",
        "    [0.3, 0.4, 0.5, 0.6],\n",
        "    [0.6, 0.5, 0.4, 0.3],\n",
        "    [0.4, 0.5, 0.6, 0.7]]) # 權重\n",
        "\n",
        "b2 = np.array([0.2, 0.3, 0.4, 0.5]) # 偏值\n",
        "print(W2.shape) # 五列四行\n",
        "print(b2.shape)"
      ],
      "metadata": {
        "colab": {
          "base_uri": "https://localhost:8080/"
        },
        "id": "95E4OVnzypmj",
        "outputId": "b9654150-fc41-4dbd-cca2-755105ca5107"
      },
      "execution_count": 9,
      "outputs": [
        {
          "output_type": "stream",
          "name": "stdout",
          "text": [
            "(5, 4)\n",
            "(4,)\n"
          ]
        }
      ]
    },
    {
      "cell_type": "markdown",
      "source": [
        "#### (2) 加權和"
      ],
      "metadata": {
        "id": "p0DRmGp2314C"
      }
    },
    {
      "cell_type": "code",
      "source": [
        "z2 = np.dot(h1, W2) + b2\n",
        "print(z2)\n",
        "print(z2.shape) # 一列四行"
      ],
      "metadata": {
        "colab": {
          "base_uri": "https://localhost:8080/"
        },
        "id": "D8Llk7nq3VVx",
        "outputId": "3d16f994-7d36-4359-df5b-4b5d07bd6ea4"
      },
      "execution_count": 10,
      "outputs": [
        {
          "output_type": "stream",
          "name": "stdout",
          "text": [
            "[3.76  4.034 4.308 4.582]\n",
            "(4,)\n"
          ]
        }
      ]
    },
    {
      "cell_type": "markdown",
      "source": [
        "#### (3) 激活函數 ReLU ()"
      ],
      "metadata": {
        "id": "s0TXAfND37uN"
      }
    },
    {
      "cell_type": "code",
      "source": [
        "h2 = relu(z2)\n",
        "print(h2)\n",
        "print(h2.shape) # 一列四行"
      ],
      "metadata": {
        "colab": {
          "base_uri": "https://localhost:8080/"
        },
        "id": "twZl9AL73xD2",
        "outputId": "71ba97a5-3ee8-47ad-9202-423965ad7546"
      },
      "execution_count": 11,
      "outputs": [
        {
          "output_type": "stream",
          "name": "stdout",
          "text": [
            "[3.76  4.034 4.308 4.582]\n",
            "(4,)\n"
          ]
        }
      ]
    },
    {
      "cell_type": "markdown",
      "source": [
        "### 3.4 第 三 隱藏層"
      ],
      "metadata": {
        "id": "9vS1VFNq4kbS"
      }
    },
    {
      "cell_type": "markdown",
      "source": [
        "#### (1) 4 個神經元"
      ],
      "metadata": {
        "id": "3GFV6htaJd-B"
      }
    },
    {
      "cell_type": "code",
      "source": [
        "W3 = np.array([\n",
        "    [0.3, 0.4, 0.5, 0.6],\n",
        "    [0.6, 0.5, 0.4, 0.3],\n",
        "    [0.4, 0.5, 0.6, 0.7],\n",
        "    [0.7, 0.6, 0.5, 0.4]])  # 權重\n",
        "\n",
        "b3 = np.array([0.3, 0.4, 0.5, 0.6])  # 偏值\n",
        "print(W3.shape) # 四列四行\n",
        "print(b3.shape)"
      ],
      "metadata": {
        "colab": {
          "base_uri": "https://localhost:8080/"
        },
        "id": "dKqFdkMD4nVv",
        "outputId": "66056616-ab3f-412b-e40b-694d5e00272c"
      },
      "execution_count": 12,
      "outputs": [
        {
          "output_type": "stream",
          "name": "stdout",
          "text": [
            "(4, 4)\n",
            "(4,)\n"
          ]
        }
      ]
    },
    {
      "cell_type": "markdown",
      "source": [
        "#### (2) 加權和"
      ],
      "metadata": {
        "id": "jS9LOL0pJ4iQ"
      }
    },
    {
      "cell_type": "code",
      "source": [
        "z3 = np.dot(h2, W3) + b3\n",
        "print(z3)\n",
        "print(z3.shape) # 一列四行"
      ],
      "metadata": {
        "colab": {
          "base_uri": "https://localhost:8080/"
        },
        "id": "4_O_jLsCJ9c-",
        "outputId": "b8a5beac-ff40-4366-db80-85000aa313eb"
      },
      "execution_count": 13,
      "outputs": [
        {
          "output_type": "stream",
          "name": "stdout",
          "text": [
            "[8.779  8.8242 8.8694 8.9146]\n",
            "(4,)\n"
          ]
        }
      ]
    },
    {
      "cell_type": "markdown",
      "source": [
        "#### (3) 激活函數 sigmoid ()"
      ],
      "metadata": {
        "id": "_456aNA9KYp5"
      }
    },
    {
      "cell_type": "code",
      "source": [
        "h3 = sigmoid(z3)\n",
        "print(h3)\n",
        "print(h3.shape) # 一列四行"
      ],
      "metadata": {
        "colab": {
          "base_uri": "https://localhost:8080/"
        },
        "id": "Zbcoq_NjKjm9",
        "outputId": "e4266360-50f2-4871-c206-b6c74a4939b5"
      },
      "execution_count": 14,
      "outputs": [
        {
          "output_type": "stream",
          "name": "stdout",
          "text": [
            "[0.99984609 0.99985289 0.99985939 0.99986561]\n",
            "(4,)\n"
          ]
        }
      ]
    },
    {
      "cell_type": "markdown",
      "source": [
        "### 3.5 輸出層"
      ],
      "metadata": {
        "id": "1ur-d_f7Kg5j"
      }
    },
    {
      "cell_type": "markdown",
      "source": [
        "#### (1) 3 個神經元"
      ],
      "metadata": {
        "id": "3ZBFyv-jOciM"
      }
    },
    {
      "cell_type": "code",
      "source": [
        "W4 = np.array([\n",
        "    [0.5, 0.3, 0.1],\n",
        "    [0.2, 0.4, 0.6],\n",
        "    [0.7, 0.5, 0.3],\n",
        "    [0.6, 0.2, 0.4]])  # 權重\n",
        "\n",
        "b4 = np.array([0.4, 0.5, 0.6])  # 偏值\n",
        "print(W4.shape) # 四列三行\n",
        "print(b4.shape)"
      ],
      "metadata": {
        "colab": {
          "base_uri": "https://localhost:8080/"
        },
        "id": "drR3sCr8NjP5",
        "outputId": "48e302e3-22c4-456b-cc06-38cc5861b1e1"
      },
      "execution_count": 15,
      "outputs": [
        {
          "output_type": "stream",
          "name": "stdout",
          "text": [
            "(4, 3)\n",
            "(3,)\n"
          ]
        }
      ]
    },
    {
      "cell_type": "markdown",
      "source": [
        "#### (2) 加權和"
      ],
      "metadata": {
        "id": "TiRmy8YXN-ej"
      }
    },
    {
      "cell_type": "code",
      "source": [
        "z4 = np.dot(h3, W4) + b4\n",
        "print(z4)\n",
        "print(z4.shape) # 一列三行"
      ],
      "metadata": {
        "colab": {
          "base_uri": "https://localhost:8080/"
        },
        "id": "6FyGvJiUOWVU",
        "outputId": "a86d9e43-f50c-42ea-d05e-e925d41e6a46"
      },
      "execution_count": 16,
      "outputs": [
        {
          "output_type": "stream",
          "name": "stdout",
          "text": [
            "[2.39971456 1.8997978  1.9998004 ]\n",
            "(3,)\n"
          ]
        }
      ]
    },
    {
      "cell_type": "markdown",
      "source": [
        "#### (3) 激活函數 Softmax ()"
      ],
      "metadata": {
        "id": "K5NuIqX-OyZk"
      }
    },
    {
      "cell_type": "code",
      "source": [
        "y_hat = softmax(z4)\n",
        "print(y_hat)\n",
        "print(y_hat.shape) # 一列三行"
      ],
      "metadata": {
        "colab": {
          "base_uri": "https://localhost:8080/"
        },
        "id": "TcaiRwwOO5Zy",
        "outputId": "784e7a35-8f40-43e7-bc01-3047a281ea14"
      },
      "execution_count": 17,
      "outputs": [
        {
          "output_type": "stream",
          "name": "stdout",
          "text": [
            "[0.43918231 0.26639971 0.29441798]\n",
            "(3,)\n"
          ]
        }
      ]
    },
    {
      "cell_type": "markdown",
      "source": [
        "### 3.6 損失函數 (loss function)"
      ],
      "metadata": {
        "id": "NGsRLoZPSa1M"
      }
    },
    {
      "cell_type": "markdown",
      "source": [
        "#### (1) 真實結果 y"
      ],
      "metadata": {
        "id": "R6TMzGa66vO0"
      }
    },
    {
      "cell_type": "code",
      "source": [
        "y = np.array([0, 0, 1])  # x 屬於第 3 種類的機率為 1"
      ],
      "metadata": {
        "id": "aF8qgtSXUdmV"
      },
      "execution_count": 19,
      "outputs": []
    },
    {
      "cell_type": "markdown",
      "source": [
        "#### (2) 交叉熵誤差 (cross_entropy_error)"
      ],
      "metadata": {
        "id": "GrZ6wuM44cBJ"
      }
    },
    {
      "cell_type": "code",
      "source": [
        "def cross_entropy_error(y_hat, y):\n",
        "  return -np.sum(y * np.log(y_hat + 1e-7))"
      ],
      "metadata": {
        "id": "yaezkLbJSefJ"
      },
      "execution_count": 20,
      "outputs": []
    },
    {
      "cell_type": "markdown",
      "source": [
        "#### (3) y_hat 與 y 之間的誤差值"
      ],
      "metadata": {
        "id": "I0i8AmgUEwX0"
      }
    },
    {
      "cell_type": "code",
      "source": [
        "loss = cross_entropy_error(y_hat, y) #  y_hat 與 y 之間的誤差值\n",
        "print(f'y_hat 與 y 之間的誤差值: {loss}')"
      ],
      "metadata": {
        "colab": {
          "base_uri": "https://localhost:8080/"
        },
        "id": "tWzw70igU-B4",
        "outputId": "257f9b98-2ead-49a7-a13f-52c4008d719a"
      },
      "execution_count": 21,
      "outputs": [
        {
          "output_type": "stream",
          "name": "stdout",
          "text": [
            "y_hat 與 y 之間的誤差值: 1.2227544845296932\n"
          ]
        }
      ]
    },
    {
      "cell_type": "markdown",
      "source": [
        "## 四、Gradio套件"
      ],
      "metadata": {
        "id": "hWJbpNbhGA-O"
      }
    },
    {
      "cell_type": "markdown",
      "source": [
        "### 4.1 安裝 Gradio"
      ],
      "metadata": {
        "id": "_8vtbYO0GK4T"
      }
    },
    {
      "cell_type": "code",
      "source": [
        "!pip install gradio"
      ],
      "metadata": {
        "colab": {
          "base_uri": "https://localhost:8080/"
        },
        "id": "20FVY1dgGORp",
        "outputId": "7c2f2870-e346-4396-fd11-55d267e5e34b"
      },
      "execution_count": 22,
      "outputs": [
        {
          "output_type": "stream",
          "name": "stdout",
          "text": [
            "Collecting gradio\n",
            "  Downloading gradio-5.22.0-py3-none-any.whl.metadata (16 kB)\n",
            "Collecting aiofiles<24.0,>=22.0 (from gradio)\n",
            "  Downloading aiofiles-23.2.1-py3-none-any.whl.metadata (9.7 kB)\n",
            "Requirement already satisfied: anyio<5.0,>=3.0 in /usr/local/lib/python3.11/dist-packages (from gradio) (3.7.1)\n",
            "Collecting fastapi<1.0,>=0.115.2 (from gradio)\n",
            "  Downloading fastapi-0.115.11-py3-none-any.whl.metadata (27 kB)\n",
            "Collecting ffmpy (from gradio)\n",
            "  Downloading ffmpy-0.5.0-py3-none-any.whl.metadata (3.0 kB)\n",
            "Collecting gradio-client==1.8.0 (from gradio)\n",
            "  Downloading gradio_client-1.8.0-py3-none-any.whl.metadata (7.1 kB)\n",
            "Collecting groovy~=0.1 (from gradio)\n",
            "  Downloading groovy-0.1.2-py3-none-any.whl.metadata (6.1 kB)\n",
            "Requirement already satisfied: httpx>=0.24.1 in /usr/local/lib/python3.11/dist-packages (from gradio) (0.28.1)\n",
            "Requirement already satisfied: huggingface-hub>=0.28.1 in /usr/local/lib/python3.11/dist-packages (from gradio) (0.28.1)\n",
            "Requirement already satisfied: jinja2<4.0 in /usr/local/lib/python3.11/dist-packages (from gradio) (3.1.6)\n",
            "Requirement already satisfied: markupsafe<4.0,>=2.0 in /usr/local/lib/python3.11/dist-packages (from gradio) (3.0.2)\n",
            "Requirement already satisfied: numpy<3.0,>=1.0 in /usr/local/lib/python3.11/dist-packages (from gradio) (2.0.2)\n",
            "Requirement already satisfied: orjson~=3.0 in /usr/local/lib/python3.11/dist-packages (from gradio) (3.10.15)\n",
            "Requirement already satisfied: packaging in /usr/local/lib/python3.11/dist-packages (from gradio) (24.2)\n",
            "Requirement already satisfied: pandas<3.0,>=1.0 in /usr/local/lib/python3.11/dist-packages (from gradio) (2.2.2)\n",
            "Requirement already satisfied: pillow<12.0,>=8.0 in /usr/local/lib/python3.11/dist-packages (from gradio) (11.1.0)\n",
            "Requirement already satisfied: pydantic>=2.0 in /usr/local/lib/python3.11/dist-packages (from gradio) (2.10.6)\n",
            "Collecting pydub (from gradio)\n",
            "  Downloading pydub-0.25.1-py2.py3-none-any.whl.metadata (1.4 kB)\n",
            "Collecting python-multipart>=0.0.18 (from gradio)\n",
            "  Downloading python_multipart-0.0.20-py3-none-any.whl.metadata (1.8 kB)\n",
            "Requirement already satisfied: pyyaml<7.0,>=5.0 in /usr/local/lib/python3.11/dist-packages (from gradio) (6.0.2)\n",
            "Collecting ruff>=0.9.3 (from gradio)\n",
            "  Downloading ruff-0.11.0-py3-none-manylinux_2_17_x86_64.manylinux2014_x86_64.whl.metadata (25 kB)\n",
            "Collecting safehttpx<0.2.0,>=0.1.6 (from gradio)\n",
            "  Downloading safehttpx-0.1.6-py3-none-any.whl.metadata (4.2 kB)\n",
            "Collecting semantic-version~=2.0 (from gradio)\n",
            "  Downloading semantic_version-2.10.0-py2.py3-none-any.whl.metadata (9.7 kB)\n",
            "Collecting starlette<1.0,>=0.40.0 (from gradio)\n",
            "  Downloading starlette-0.46.1-py3-none-any.whl.metadata (6.2 kB)\n",
            "Collecting tomlkit<0.14.0,>=0.12.0 (from gradio)\n",
            "  Downloading tomlkit-0.13.2-py3-none-any.whl.metadata (2.7 kB)\n",
            "Requirement already satisfied: typer<1.0,>=0.12 in /usr/local/lib/python3.11/dist-packages (from gradio) (0.15.2)\n",
            "Requirement already satisfied: typing-extensions~=4.0 in /usr/local/lib/python3.11/dist-packages (from gradio) (4.12.2)\n",
            "Collecting uvicorn>=0.14.0 (from gradio)\n",
            "  Downloading uvicorn-0.34.0-py3-none-any.whl.metadata (6.5 kB)\n",
            "Requirement already satisfied: fsspec in /usr/local/lib/python3.11/dist-packages (from gradio-client==1.8.0->gradio) (2024.10.0)\n",
            "Requirement already satisfied: websockets<16.0,>=10.0 in /usr/local/lib/python3.11/dist-packages (from gradio-client==1.8.0->gradio) (14.2)\n",
            "Requirement already satisfied: idna>=2.8 in /usr/local/lib/python3.11/dist-packages (from anyio<5.0,>=3.0->gradio) (3.10)\n",
            "Requirement already satisfied: sniffio>=1.1 in /usr/local/lib/python3.11/dist-packages (from anyio<5.0,>=3.0->gradio) (1.3.1)\n",
            "Requirement already satisfied: certifi in /usr/local/lib/python3.11/dist-packages (from httpx>=0.24.1->gradio) (2025.1.31)\n",
            "Requirement already satisfied: httpcore==1.* in /usr/local/lib/python3.11/dist-packages (from httpx>=0.24.1->gradio) (1.0.7)\n",
            "Requirement already satisfied: h11<0.15,>=0.13 in /usr/local/lib/python3.11/dist-packages (from httpcore==1.*->httpx>=0.24.1->gradio) (0.14.0)\n",
            "Requirement already satisfied: filelock in /usr/local/lib/python3.11/dist-packages (from huggingface-hub>=0.28.1->gradio) (3.17.0)\n",
            "Requirement already satisfied: requests in /usr/local/lib/python3.11/dist-packages (from huggingface-hub>=0.28.1->gradio) (2.32.3)\n",
            "Requirement already satisfied: tqdm>=4.42.1 in /usr/local/lib/python3.11/dist-packages (from huggingface-hub>=0.28.1->gradio) (4.67.1)\n",
            "Requirement already satisfied: python-dateutil>=2.8.2 in /usr/local/lib/python3.11/dist-packages (from pandas<3.0,>=1.0->gradio) (2.8.2)\n",
            "Requirement already satisfied: pytz>=2020.1 in /usr/local/lib/python3.11/dist-packages (from pandas<3.0,>=1.0->gradio) (2025.1)\n",
            "Requirement already satisfied: tzdata>=2022.7 in /usr/local/lib/python3.11/dist-packages (from pandas<3.0,>=1.0->gradio) (2025.1)\n",
            "Requirement already satisfied: annotated-types>=0.6.0 in /usr/local/lib/python3.11/dist-packages (from pydantic>=2.0->gradio) (0.7.0)\n",
            "Requirement already satisfied: pydantic-core==2.27.2 in /usr/local/lib/python3.11/dist-packages (from pydantic>=2.0->gradio) (2.27.2)\n",
            "Requirement already satisfied: click>=8.0.0 in /usr/local/lib/python3.11/dist-packages (from typer<1.0,>=0.12->gradio) (8.1.8)\n",
            "Requirement already satisfied: shellingham>=1.3.0 in /usr/local/lib/python3.11/dist-packages (from typer<1.0,>=0.12->gradio) (1.5.4)\n",
            "Requirement already satisfied: rich>=10.11.0 in /usr/local/lib/python3.11/dist-packages (from typer<1.0,>=0.12->gradio) (13.9.4)\n",
            "Requirement already satisfied: six>=1.5 in /usr/local/lib/python3.11/dist-packages (from python-dateutil>=2.8.2->pandas<3.0,>=1.0->gradio) (1.17.0)\n",
            "Requirement already satisfied: markdown-it-py>=2.2.0 in /usr/local/lib/python3.11/dist-packages (from rich>=10.11.0->typer<1.0,>=0.12->gradio) (3.0.0)\n",
            "Requirement already satisfied: pygments<3.0.0,>=2.13.0 in /usr/local/lib/python3.11/dist-packages (from rich>=10.11.0->typer<1.0,>=0.12->gradio) (2.18.0)\n",
            "Requirement already satisfied: charset-normalizer<4,>=2 in /usr/local/lib/python3.11/dist-packages (from requests->huggingface-hub>=0.28.1->gradio) (3.4.1)\n",
            "Requirement already satisfied: urllib3<3,>=1.21.1 in /usr/local/lib/python3.11/dist-packages (from requests->huggingface-hub>=0.28.1->gradio) (2.3.0)\n",
            "Requirement already satisfied: mdurl~=0.1 in /usr/local/lib/python3.11/dist-packages (from markdown-it-py>=2.2.0->rich>=10.11.0->typer<1.0,>=0.12->gradio) (0.1.2)\n",
            "Downloading gradio-5.22.0-py3-none-any.whl (46.2 MB)\n",
            "\u001b[2K   \u001b[90m━━━━━━━━━━━━━━━━━━━━━━━━━━━━━━━━━━━━━━━━\u001b[0m \u001b[32m46.2/46.2 MB\u001b[0m \u001b[31m19.7 MB/s\u001b[0m eta \u001b[36m0:00:00\u001b[0m\n",
            "\u001b[?25hDownloading gradio_client-1.8.0-py3-none-any.whl (322 kB)\n",
            "\u001b[2K   \u001b[90m━━━━━━━━━━━━━━━━━━━━━━━━━━━━━━━━━━━━━━━━\u001b[0m \u001b[32m322.2/322.2 kB\u001b[0m \u001b[31m21.4 MB/s\u001b[0m eta \u001b[36m0:00:00\u001b[0m\n",
            "\u001b[?25hDownloading aiofiles-23.2.1-py3-none-any.whl (15 kB)\n",
            "Downloading fastapi-0.115.11-py3-none-any.whl (94 kB)\n",
            "\u001b[2K   \u001b[90m━━━━━━━━━━━━━━━━━━━━━━━━━━━━━━━━━━━━━━━━\u001b[0m \u001b[32m94.9/94.9 kB\u001b[0m \u001b[31m8.5 MB/s\u001b[0m eta \u001b[36m0:00:00\u001b[0m\n",
            "\u001b[?25hDownloading groovy-0.1.2-py3-none-any.whl (14 kB)\n",
            "Downloading python_multipart-0.0.20-py3-none-any.whl (24 kB)\n",
            "Downloading ruff-0.11.0-py3-none-manylinux_2_17_x86_64.manylinux2014_x86_64.whl (11.3 MB)\n",
            "\u001b[2K   \u001b[90m━━━━━━━━━━━━━━━━━━━━━━━━━━━━━━━━━━━━━━━━\u001b[0m \u001b[32m11.3/11.3 MB\u001b[0m \u001b[31m117.0 MB/s\u001b[0m eta \u001b[36m0:00:00\u001b[0m\n",
            "\u001b[?25hDownloading safehttpx-0.1.6-py3-none-any.whl (8.7 kB)\n",
            "Downloading semantic_version-2.10.0-py2.py3-none-any.whl (15 kB)\n",
            "Downloading starlette-0.46.1-py3-none-any.whl (71 kB)\n",
            "\u001b[2K   \u001b[90m━━━━━━━━━━━━━━━━━━━━━━━━━━━━━━━━━━━━━━━━\u001b[0m \u001b[32m72.0/72.0 kB\u001b[0m \u001b[31m6.5 MB/s\u001b[0m eta \u001b[36m0:00:00\u001b[0m\n",
            "\u001b[?25hDownloading tomlkit-0.13.2-py3-none-any.whl (37 kB)\n",
            "Downloading uvicorn-0.34.0-py3-none-any.whl (62 kB)\n",
            "\u001b[2K   \u001b[90m━━━━━━━━━━━━━━━━━━━━━━━━━━━━━━━━━━━━━━━━\u001b[0m \u001b[32m62.3/62.3 kB\u001b[0m \u001b[31m4.5 MB/s\u001b[0m eta \u001b[36m0:00:00\u001b[0m\n",
            "\u001b[?25hDownloading ffmpy-0.5.0-py3-none-any.whl (6.0 kB)\n",
            "Downloading pydub-0.25.1-py2.py3-none-any.whl (32 kB)\n",
            "Installing collected packages: pydub, uvicorn, tomlkit, semantic-version, ruff, python-multipart, groovy, ffmpy, aiofiles, starlette, safehttpx, gradio-client, fastapi, gradio\n",
            "Successfully installed aiofiles-23.2.1 fastapi-0.115.11 ffmpy-0.5.0 gradio-5.22.0 gradio-client-1.8.0 groovy-0.1.2 pydub-0.25.1 python-multipart-0.0.20 ruff-0.11.0 safehttpx-0.1.6 semantic-version-2.10.0 starlette-0.46.1 tomlkit-0.13.2 uvicorn-0.34.0\n"
          ]
        }
      ]
    },
    {
      "cell_type": "markdown",
      "source": [
        "### 4.2 載入 Gradio 套件"
      ],
      "metadata": {
        "id": "-dZsQIVqGgA3"
      }
    },
    {
      "cell_type": "code",
      "source": [
        "import gradio as gr"
      ],
      "metadata": {
        "id": "-UwDwB89KdE6"
      },
      "execution_count": 23,
      "outputs": []
    },
    {
      "cell_type": "markdown",
      "source": [
        "### 4.3 函數dnn ()"
      ],
      "metadata": {
        "id": "62vKvOKMESbG"
      }
    },
    {
      "cell_type": "code",
      "source": [
        "def dnn(*x):\n",
        "  x = np.array(x, dtype=float)\n",
        "\n",
        "  z1 = np.dot(x, W1) + b1\n",
        "  h1 = relu(z1)\n",
        "\n",
        "  z2 = np.dot(h1, W2) + b2\n",
        "  h2 = relu(z2)\n",
        "\n",
        "  z3 = np.dot(h2, W3) + b3\n",
        "  h3 = sigmoid(z3)\n",
        "\n",
        "  z4 = np.dot(h3, W4) + b4\n",
        "  y_hat_func = softmax(z4)\n",
        "\n",
        "  return f'預測類別: {int(np.argmax(y_hat)) + 1}', y_hat_func"
      ],
      "metadata": {
        "id": "P4_JZwQoVjJB"
      },
      "execution_count": 27,
      "outputs": []
    },
    {
      "cell_type": "markdown",
      "source": [
        "### 4.4 建立 Gradio 介面"
      ],
      "metadata": {
        "id": "6IzbaPKkKxzc"
      }
    },
    {
      "cell_type": "code",
      "source": [
        "iface = gr.Interface(dnn,\n",
        "            inputs=[gr.Number(label=f'特徵值 {i+1}') for i in range(6)],\n",
        "            outputs=[\n",
        "                gr.Textbox(label='預測類別'),\n",
        "                gr.Textbox(label='y_hat 數值')],\n",
        "            title='DNN 類別預測',\n",
        "            description='請輸入6個特徵值')\n",
        "iface.launch(share=True)"
      ],
      "metadata": {
        "colab": {
          "base_uri": "https://localhost:8080/",
          "height": 646
        },
        "id": "OpHbY0aGGo1p",
        "outputId": "86117ce2-4989-49a8-bde4-a6328c19ea8d"
      },
      "execution_count": 25,
      "outputs": [
        {
          "output_type": "stream",
          "name": "stdout",
          "text": [
            "Running Gradio in a Colab notebook requires sharing enabled. Automatically setting `share=True` (you can turn this off by setting `share=False` in `launch()` explicitly).\n",
            "\n",
            "Colab notebook detected. To show errors in colab notebook, set debug=True in launch()\n",
            "* Running on public URL: https://4e0800b93cf1f36012.gradio.live\n",
            "\n",
            "This share link expires in 72 hours. For free permanent hosting and GPU upgrades, run `gradio deploy` from the terminal in the working directory to deploy to Hugging Face Spaces (https://huggingface.co/spaces)\n"
          ]
        },
        {
          "output_type": "display_data",
          "data": {
            "text/plain": [
              "<IPython.core.display.HTML object>"
            ],
            "text/html": [
              "<div><iframe src=\"https://4e0800b93cf1f36012.gradio.live\" width=\"100%\" height=\"500\" allow=\"autoplay; camera; microphone; clipboard-read; clipboard-write;\" frameborder=\"0\" allowfullscreen></iframe></div>"
            ]
          },
          "metadata": {}
        },
        {
          "output_type": "execute_result",
          "data": {
            "text/plain": []
          },
          "metadata": {},
          "execution_count": 25
        }
      ]
    },
    {
      "cell_type": "markdown",
      "source": [
        "### 4.5 y_hat 是否相等"
      ],
      "metadata": {
        "id": "ONJo1QdnEYKk"
      }
    },
    {
      "cell_type": "code",
      "source": [
        "_, y_hat_func = dnn(X)\n",
        "print(y_hat_func) # dnn結果的y_hat\n",
        "print(y_hat) # 第1項練習的y_hat\n",
        "\n",
        "if np.allclose(y_hat_func, y_hat):\n",
        "  print(f'函數dnn()的 y_hat 與第1項練習的 y_hat 相同\\n')\n",
        "else:\n",
        "  print(f'函數dnn()的 y_hat 與第1項練習的 y_hat 不同\\n')"
      ],
      "metadata": {
        "colab": {
          "base_uri": "https://localhost:8080/"
        },
        "id": "7jvy2eHSDz1I",
        "outputId": "2afbc2a4-b704-4412-e05f-908de08917b6"
      },
      "execution_count": 26,
      "outputs": [
        {
          "output_type": "stream",
          "name": "stdout",
          "text": [
            "[[0.43918231 0.26639971 0.29441798]]\n",
            "[0.43918231 0.26639971 0.29441798]\n",
            "函數dnn()的 y_hat 與第1項練習的 y_hat 相同\n",
            "\n"
          ]
        }
      ]
    }
  ]
}